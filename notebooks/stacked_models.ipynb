{
 "cells": [
  {
   "cell_type": "code",
   "execution_count": 3,
   "metadata": {},
   "outputs": [
    {
     "name": "stdout",
     "output_type": "stream",
     "text": [
      "Stacked Model Test Accuracy: 88.333%\n",
      "Stacked Model Test Precision: 84.000%\n"
     ]
    }
   ],
   "source": [
    "import pandas as pd\n",
    "import numpy as np\n",
    "from sklearn.model_selection import train_test_split, KFold\n",
    "from sklearn.linear_model import LogisticRegression\n",
    "from sklearn.metrics import accuracy_score, precision_score\n",
    "from sklearn.preprocessing import StandardScaler\n",
    "import xgboost as xgb\n",
    "import matplotlib.pyplot as plt\n",
    "\n",
    "url = 'https://archive.ics.uci.edu/ml/machine-learning-databases/heart-disease/processed.cleveland.data'\n",
    "column_names = ['age', 'sex', 'cp', 'trestbps', 'chol', 'fbs', 'restecg', 'thalach', 'exang', 'oldpeak', 'slope', 'ca', 'thal', 'target']\n",
    "data = pd.read_csv(url, names=column_names)\n",
    "\n",
    "data.replace('?', np.nan, inplace=True)\n",
    "data.dropna(inplace=True)\n",
    "data = data.astype(float)\n",
    "\n",
    "data['target'] = data['target'].apply(lambda x: 1 if x > 0 else 0)\n",
    "\n",
    "X = data.drop('target', axis=1)\n",
    "y = data['target']\n",
    "\n",
    "scaler = StandardScaler()\n",
    "X_scaled = scaler.fit_transform(X)\n",
    "\n",
    "X_train, X_test, y_train, y_test = train_test_split(X_scaled, y, test_size=0.2, random_state=42)\n",
    "\n",
    "log_reg = LogisticRegression()\n",
    "xgb_clf = xgb.XGBClassifier(use_label_encoder=False, eval_metric='logloss')\n",
    "\n",
    "# K-Fold Cross Validation\n",
    "kf = KFold(n_splits=5, shuffle=True, random_state=42)\n",
    "\n",
    "# arrays for stacking\n",
    "train_meta = np.zeros((X_train.shape[0], 2))  # Two models' predictions\n",
    "test_meta = np.zeros((X_test.shape[0], 2))\n",
    "\n",
    "# conversion of y_train to numpy array is needed for proper indexing\n",
    "y_train_array = y_train.values\n",
    "\n",
    "for train_index, val_index in kf.split(X_train):\n",
    "    X_fold_train, X_fold_val = X_train[train_index], X_train[val_index]\n",
    "    y_fold_train, y_fold_val = y_train_array[train_index], y_train_array[val_index]\n",
    "    \n",
    "    # train first-level\n",
    "    log_reg.fit(X_fold_train, y_fold_train)\n",
    "    xgb_clf.fit(X_fold_train, y_fold_train)\n",
    "    \n",
    "    # predict\n",
    "    train_meta[val_index, 0] = log_reg.predict(X_fold_val)\n",
    "    train_meta[val_index, 1] = xgb_clf.predict(X_fold_val)\n",
    "    \n",
    "    test_meta[:, 0] += log_reg.predict(X_test)\n",
    "    test_meta[:, 1] += xgb_clf.predict(X_test)\n",
    "\n",
    "# average test set predictions\n",
    "test_meta /= kf.get_n_splits()\n",
    "\n",
    "# train second-level\n",
    "meta_model = LogisticRegression()\n",
    "meta_model.fit(train_meta, y_train_array)\n",
    "y_pred_meta = meta_model.predict(test_meta)\n",
    "\n",
    "# outcomes\n",
    "accuracy_meta = accuracy_score(y_test, y_pred_meta)\n",
    "precision_meta = precision_score(y_test, y_pred_meta)\n",
    "print(f'Stacked Model Test Accuracy: {accuracy_meta * 100:.3f}%')\n",
    "print(f'Stacked Model Test Precision: {precision_meta * 100:.3f}%')\n"
   ]
  }
 ],
 "metadata": {
  "kernelspec": {
   "display_name": "env",
   "language": "python",
   "name": "python3"
  },
  "language_info": {
   "codemirror_mode": {
    "name": "ipython",
    "version": 3
   },
   "file_extension": ".py",
   "mimetype": "text/x-python",
   "name": "python",
   "nbconvert_exporter": "python",
   "pygments_lexer": "ipython3",
   "version": "3.11.9"
  }
 },
 "nbformat": 4,
 "nbformat_minor": 2
}
